{
 "cells": [
  {
   "cell_type": "code",
   "execution_count": 1,
   "metadata": {},
   "outputs": [],
   "source": [
    "import json\n",
    "\n",
    "def count_confidence(khipu):\n",
    "    confidence_counter = {}\n",
    "    for x in khipu.values():\n",
    "        for hour, scores in x['labeling_scores'].items():\n",
    "            if hour not in confidence_counter:\n",
    "                confidence_counter[hour] = {\n",
    "                    0: 0,\n",
    "                    1: 0,\n",
    "                    2: 0,\n",
    "                    3: 0\n",
    "                }\n",
    "            confidence_counter[hour][scores['confidence_level']] += 1\n",
    "    return confidence_counter\n",
    "\n",
    "def count_confidence_in_model(khipu):\n",
    "    confidence_counter = {}\n",
    "    for x in khipu.values():\n",
    "        if x[\"in_GEM\"]:\n",
    "            for hour, scores in x['labeling_scores'].items():\n",
    "                if hour not in confidence_counter:\n",
    "                    confidence_counter[hour] = {\n",
    "                        0: 0,\n",
    "                        1: 0,\n",
    "                        2: 0,\n",
    "                        3: 0\n",
    "                    }\n",
    "                confidence_counter[hour][scores['confidence_level']] += 1\n",
    "    return confidence_counter\n",
    "\n",
    "\n",
    "\n"
   ]
  },
  {
   "cell_type": "code",
   "execution_count": 2,
   "metadata": {},
   "outputs": [],
   "source": [
    "rp_neg293 = json.load(open(\"/Users/mitchjo/KhipuPaper/Figure2/293T_rp_neg_khipu.json\"))\n",
    "rp_pos293 = json.load(open(\"/Users/mitchjo/KhipuPaper/Figure2/293T_rp_pos_khipu.json\"))\n",
    "hilic_neg293 = json.load(open(\"/Users/mitchjo/KhipuPaper/Figure2/293T_hilic_neg_khipu.json\"))\n",
    "hilic_pos293 = json.load(open(\"/Users/mitchjo/KhipuPaper/Figure2/293T_hilic_pos_khipu.json\"))"
   ]
  },
  {
   "cell_type": "code",
   "execution_count": 3,
   "metadata": {},
   "outputs": [],
   "source": [
    "results293 = {\n",
    "    \"rp_neg\": count_confidence(rp_neg293),\n",
    "    \"rp_pos\": count_confidence(rp_pos293),\n",
    "    \"hilic_neg\": count_confidence(hilic_neg293),\n",
    "    \"hilic_pos\": count_confidence(hilic_pos293)\n",
    "}\n",
    "\n",
    "json.dump(results293, open(\"293T_all.json\", 'w+'), indent=4)"
   ]
  },
  {
   "cell_type": "code",
   "execution_count": 4,
   "metadata": {},
   "outputs": [],
   "source": [
    "results_in_model_293 = {\n",
    "    \"rp_neg\": count_confidence_in_model(rp_neg293),\n",
    "    \"rp_pos\": count_confidence_in_model(rp_pos293),\n",
    "    \"hilic_neg\": count_confidence_in_model(hilic_neg293),\n",
    "    \"hilic_pos\": count_confidence_in_model(hilic_pos293)\n",
    "}\n",
    "\n",
    "json.dump(results_in_model_293, open(\"293T_GEM.json\", 'w+'), indent=4)"
   ]
  },
  {
   "cell_type": "code",
   "execution_count": 5,
   "metadata": {},
   "outputs": [],
   "source": [
    "rp_negAML = json.load(open(\"/Users/mitchjo/KhipuPaper/Figure2/AML_rp_neg_khipu.json\"))\n",
    "rp_posAML = json.load(open(\"/Users/mitchjo/KhipuPaper/Figure2/AML_rp_pos_khipu.json\"))\n",
    "hilic_negAML = json.load(open(\"/Users/mitchjo/KhipuPaper/Figure2/AML_hilic_neg_khipu.json\"))\n",
    "hilic_posAML = json.load(open(\"/Users/mitchjo/KhipuPaper/Figure2/AML_hilic_pos_khipu.json\"))"
   ]
  },
  {
   "cell_type": "code",
   "execution_count": 6,
   "metadata": {},
   "outputs": [],
   "source": [
    "resultsAML = {\n",
    "    \"rp_neg\": count_confidence(rp_negAML),\n",
    "    \"rp_pos\": count_confidence(rp_posAML),\n",
    "    \"hilic_neg\": count_confidence(hilic_negAML),\n",
    "    \"hilic_pos\": count_confidence(hilic_posAML)\n",
    "}\n",
    "\n",
    "json.dump(resultsAML, open(\"AML_all.json\", 'w+'), indent=4)"
   ]
  },
  {
   "cell_type": "code",
   "execution_count": 7,
   "metadata": {},
   "outputs": [],
   "source": [
    "results_in_modelAML = {\n",
    "    \"rp_neg\": count_confidence_in_model(rp_negAML),\n",
    "    \"rp_pos\": count_confidence_in_model(rp_posAML),\n",
    "    \"hilic_neg\": count_confidence_in_model(hilic_negAML),\n",
    "    \"hilic_pos\": count_confidence_in_model(hilic_posAML)\n",
    "}\n",
    "\n",
    "json.dump(results_in_modelAML, open(\"AML_GEM.json\", 'w+'), indent=4)"
   ]
  }
 ],
 "metadata": {
  "kernelspec": {
   "display_name": "Python 3",
   "language": "python",
   "name": "python3"
  },
  "language_info": {
   "codemirror_mode": {
    "name": "ipython",
    "version": 3
   },
   "file_extension": ".py",
   "mimetype": "text/x-python",
   "name": "python",
   "nbconvert_exporter": "python",
   "pygments_lexer": "ipython3",
   "version": "3.9.6"
  }
 },
 "nbformat": 4,
 "nbformat_minor": 2
}
