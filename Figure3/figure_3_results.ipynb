{
 "cells": [
  {
   "cell_type": "code",
   "execution_count": 5,
   "metadata": {},
   "outputs": [],
   "source": [
    "import os \n",
    "import json"
   ]
  },
  {
   "cell_type": "code",
   "execution_count": 6,
   "metadata": {},
   "outputs": [],
   "source": [
    "def count_empcpds(khipu):\n",
    "    total_kps = 0\n",
    "    in_model = 0\n",
    "    for kp in khipu.values():\n",
    "        total_kps += 1\n",
    "        if kp[\"in_GEM\"]:\n",
    "            in_model += 1\n",
    "    return {\"total_kps\": total_kps, \"in_model\": in_model}"
   ]
  },
  {
   "cell_type": "code",
   "execution_count": 7,
   "metadata": {},
   "outputs": [
    {
     "name": "stdout",
     "output_type": "stream",
     "text": [
      "293T_hilic_neg_khipu.json {'total_kps': 5973, 'in_model': 202}\n",
      "293T_hilic_pos_khipu.json {'total_kps': 2247, 'in_model': 243}\n",
      "293T_rp_neg_khipu.json {'total_kps': 754, 'in_model': 28}\n",
      "293T_rp_pos_khipu.json {'total_kps': 1781, 'in_model': 123}\n",
      "AML_hilic_neg_khipu.json {'total_kps': 1290, 'in_model': 128}\n",
      "AML_hilic_pos_khipu.json {'total_kps': 1083, 'in_model': 194}\n",
      "AML_rp_neg_khipu.json {'total_kps': 1068, 'in_model': 41}\n",
      "AML_rp_pos_khipu.json {'total_kps': 2534, 'in_model': 146}\n",
      "st001776.json {'total_kps': 537, 'in_model': 105}\n",
      "st001776_limited.json {'total_kps': 524, 'in_model': 109}\n"
     ]
    }
   ],
   "source": [
    "counting_results = {}\n",
    "for dir, _, files in os.walk(\"/Users/mitchjo/KhipuPaper/Figure2\"):\n",
    "    for f in sorted(files):\n",
    "        if f.endswith(\".json\")  and \"all\" not in f and \"GEM\" not in f:\n",
    "            abs_path = os.path.join(dir, f)\n",
    "            kp = json.load(open(abs_path))\n",
    "            counting_results[os.path.basename(f)] = count_empcpds(kp)\n",
    "\n",
    "json.dump(counting_results, open(\"khipu_counting_GEM.json\", \"w+\"), indent=4)"
   ]
  },
  {
   "cell_type": "code",
   "execution_count": null,
   "metadata": {},
   "outputs": [],
   "source": []
  }
 ],
 "metadata": {
  "kernelspec": {
   "display_name": "Python 3",
   "language": "python",
   "name": "python3"
  },
  "language_info": {
   "codemirror_mode": {
    "name": "ipython",
    "version": 3
   },
   "file_extension": ".py",
   "mimetype": "text/x-python",
   "name": "python",
   "nbconvert_exporter": "python",
   "pygments_lexer": "ipython3",
   "version": "3.9.6"
  }
 },
 "nbformat": 4,
 "nbformat_minor": 2
}
